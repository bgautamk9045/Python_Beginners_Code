{
 "cells": [
  {
   "cell_type": "code",
   "execution_count": 6,
   "id": "cb05c4bb",
   "metadata": {},
   "outputs": [],
   "source": [
    "import pandas as pd\n",
    "\n",
    "# Load the Excel file\n",
    "file_path = \"TESTING.xlsx\"\n",
    "df = pd.read_excel(file_path)\n",
    "\n",
    "# List of HR values\n",
    "hr_values = [\"HR-Admin\", \"HR-Facility\",\"Admin-HR\",\"Security-HR\"]\n",
    "\n",
    "# List of Network values\n",
    "network_values = [\"NOC-Network\", \"Network-HDO\",\"Network-AES\",\"Network-System Engineering\",\"Network-Infra\", \"Infrastructure-NXTRA\"]\n",
    "\n",
    "# Iterate over HR values and create new sheets\n",
    "with pd.ExcelWriter(file_path, engine='openpyxl', mode='a') as writer:\n",
    "    for hr_value in hr_values:\n",
    "        # Create a new DataFrame with the specified HR value\n",
    "        hr_data = df.loc[df['User Department'] == 'HR'].copy()\n",
    "        hr_data['User Department'] = hr_value\n",
    "\n",
    "        # Write the modified HR data to a new sheet\n",
    "        hr_data.to_excel(writer, sheet_name=f'NewSheet{hr_value}', index=False)\n",
    "     \n",
    "# Iterate over HR values and create new sheets\n",
    "with pd.ExcelWriter(file_path, engine='openpyxl', mode='a') as writers:\n",
    "     for network_value in network_values:\n",
    "        # Create a new DataFrame with the specified HR value\n",
    "        network_data = df.loc[df['User Department'] == 'Network'].copy()\n",
    "        network_data['User Department'] = network_value\n",
    "\n",
    "        # Write the modified HR data to a new sheet\n",
    "        network_data.to_excel(writers, sheet_name=f'{network_value}', index=False)\n",
    "        "
   ]
  },
  {
   "cell_type": "code",
   "execution_count": null,
   "id": "096fb35d",
   "metadata": {},
   "outputs": [],
   "source": []
  }
 ],
 "metadata": {
  "kernelspec": {
   "display_name": "Python 3 (ipykernel)",
   "language": "python",
   "name": "python3"
  },
  "language_info": {
   "codemirror_mode": {
    "name": "ipython",
    "version": 3
   },
   "file_extension": ".py",
   "mimetype": "text/x-python",
   "name": "python",
   "nbconvert_exporter": "python",
   "pygments_lexer": "ipython3",
   "version": "3.11.5"
  }
 },
 "nbformat": 4,
 "nbformat_minor": 5
}
